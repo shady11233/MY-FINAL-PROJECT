{
 "cells": [
  {
   "cell_type": "markdown",
   "id": "613e3496-18b6-404a-bee1-f9b5d7146905",
   "metadata": {},
   "source": [
    " <h1>My Jupyter Notebook on IBM Watson Studio<h1> \n"
   ]
  },
  {
   "cell_type": "markdown",
   "id": "013db715-411e-4958-b039-daabb2efcb26",
   "metadata": {},
   "source": [
    "<b>ADVAIT BHAGAT<b>\n",
    " I want to work with entertainment industry as a data scientist"
   ]
  },
  {
   "cell_type": "markdown",
   "id": "c219ab5a-f9c1-430d-a16b-c53df6f04bbf",
   "metadata": {},
   "source": [
    "<em>I am interested in Data Science because I would love to contribute towards entertainment industry and quality entertainment in the future<em>"
   ]
  },
  {
   "cell_type": "markdown",
   "id": "614fcab0-74b2-4ceb-b7c9-494578a43390",
   "metadata": {},
   "source": [
    "<h3>It is going to add two variables<h3>"
   ]
  },
  {
   "cell_type": "code",
   "execution_count": 1,
   "id": "78723760-d108-45d6-919d-eb49b3760abf",
   "metadata": {},
   "outputs": [
    {
     "name": "stdout",
     "output_type": "stream",
     "text": [
      "10\n"
     ]
    }
   ],
   "source": [
    "a=5\n",
    "b=5\n",
    "c=a+b\n",
    "print(c)"
   ]
  },
  {
   "cell_type": "markdown",
   "id": "a16a90eb-1533-463c-acfa-8f5d5a8eb7f2",
   "metadata": {},
   "source": [
    "<h1> ORDERED LIST<h1>\n",
    "<ol>\n",
    "    <li>tea</li>\n",
    "    <li>coffee</li>\n",
    "    <li>bread</li>\n",
    "    <li>butter</li>\n",
    "</ol>\n",
    "    \n",
    "<a href=\"https://www.google.com\">Google</a> \n",
    "    \n",
    "<img src=\"img_girl.jpg\" alt=\"Girl in a jacket\" width=\"500\" height=\"600\">\n",
    "    \n",
    "    \n",
    "    \n",
    "<h1>The cars</h1>\n",
    "\n",
    "<p>name of cars.</p>\n",
    "\n",
    "<hr>\n",
    "\n",
    "<p>AUDI and BMW.</p>\n",
    "\n",
    "<hr>\n",
    "\n",
    "<p>end</p>    "
   ]
  },
  {
   "cell_type": "markdown",
   "id": "5ed920e0-4a99-4492-ad92-ac44e4569e0d",
   "metadata": {},
   "source": []
  },
  {
   "cell_type": "code",
   "execution_count": null,
   "id": "f997f449-ecb0-4318-8169-d2f871853967",
   "metadata": {},
   "outputs": [],
   "source": []
  }
 ],
 "metadata": {
  "kernelspec": {
   "display_name": "Python",
   "language": "python",
   "name": "conda-env-python-py"
  },
  "language_info": {
   "codemirror_mode": {
    "name": "ipython",
    "version": 3
   },
   "file_extension": ".py",
   "mimetype": "text/x-python",
   "name": "python",
   "nbconvert_exporter": "python",
   "pygments_lexer": "ipython3",
   "version": "3.7.12"
  }
 },
 "nbformat": 4,
 "nbformat_minor": 5
}
